{
 "cells": [
  {
   "cell_type": "code",
   "execution_count": 53,
   "id": "14f5f7e7",
   "metadata": {},
   "outputs": [],
   "source": [
    "import pandas as pd\n",
    "import numpy as np\n",
    "import seaborn as sns"
   ]
  },
  {
   "cell_type": "code",
   "execution_count": 18,
   "id": "f976b4bc",
   "metadata": {},
   "outputs": [
    {
     "name": "stdout",
     "output_type": "stream",
     "text": [
      "Collecting ucimlrepo\n",
      "  Downloading ucimlrepo-0.0.6-py3-none-any.whl.metadata (5.3 kB)\n",
      "Downloading ucimlrepo-0.0.6-py3-none-any.whl (8.0 kB)\n",
      "Installing collected packages: ucimlrepo\n",
      "Successfully installed ucimlrepo-0.0.6\n"
     ]
    },
    {
     "name": "stderr",
     "output_type": "stream",
     "text": [
      "\n",
      "[notice] A new release of pip is available: 23.3.1 -> 24.0\n",
      "[notice] To update, run: python.exe -m pip install --upgrade pip\n"
     ]
    }
   ],
   "source": [
    "!pip install ucimlrepo"
   ]
  },
  {
   "cell_type": "code",
   "execution_count": 102,
   "id": "afaa6a9d",
   "metadata": {},
   "outputs": [],
   "source": [
    "from ucimlrepo import fetch_ucirepo \n",
    "  \n",
    "# fetch dataset \n",
    "adult = fetch_ucirepo(id=2) \n",
    "  \n",
    "# data (as pandas dataframes) \n",
    "X = adult.data.features \n",
    "y = adult.data.targets \n",
    "  \n",
    "## metadata \n",
    "#print(adult.metadata) \n",
    "#  \n",
    "## variable information \n",
    "#print(adult.variables) \n"
   ]
  },
  {
   "cell_type": "code",
   "execution_count": 103,
   "id": "8d3af92a",
   "metadata": {},
   "outputs": [
    {
     "data": {
      "text/html": [
       "<div>\n",
       "<style scoped>\n",
       "    .dataframe tbody tr th:only-of-type {\n",
       "        vertical-align: middle;\n",
       "    }\n",
       "\n",
       "    .dataframe tbody tr th {\n",
       "        vertical-align: top;\n",
       "    }\n",
       "\n",
       "    .dataframe thead th {\n",
       "        text-align: right;\n",
       "    }\n",
       "</style>\n",
       "<table border=\"1\" class=\"dataframe\">\n",
       "  <thead>\n",
       "    <tr style=\"text-align: right;\">\n",
       "      <th></th>\n",
       "      <th>age</th>\n",
       "      <th>workclass</th>\n",
       "      <th>fnlwgt</th>\n",
       "      <th>education</th>\n",
       "      <th>education-num</th>\n",
       "      <th>marital-status</th>\n",
       "      <th>occupation</th>\n",
       "      <th>relationship</th>\n",
       "      <th>race</th>\n",
       "      <th>sex</th>\n",
       "      <th>capital-gain</th>\n",
       "      <th>capital-loss</th>\n",
       "      <th>hours-per-week</th>\n",
       "      <th>native-country</th>\n",
       "    </tr>\n",
       "  </thead>\n",
       "  <tbody>\n",
       "    <tr>\n",
       "      <th>0</th>\n",
       "      <td>39</td>\n",
       "      <td>State-gov</td>\n",
       "      <td>77516</td>\n",
       "      <td>Bachelors</td>\n",
       "      <td>13</td>\n",
       "      <td>Never-married</td>\n",
       "      <td>Adm-clerical</td>\n",
       "      <td>Not-in-family</td>\n",
       "      <td>White</td>\n",
       "      <td>Male</td>\n",
       "      <td>2174</td>\n",
       "      <td>0</td>\n",
       "      <td>40</td>\n",
       "      <td>United-States</td>\n",
       "    </tr>\n",
       "    <tr>\n",
       "      <th>1</th>\n",
       "      <td>50</td>\n",
       "      <td>Self-emp-not-inc</td>\n",
       "      <td>83311</td>\n",
       "      <td>Bachelors</td>\n",
       "      <td>13</td>\n",
       "      <td>Married-civ-spouse</td>\n",
       "      <td>Exec-managerial</td>\n",
       "      <td>Husband</td>\n",
       "      <td>White</td>\n",
       "      <td>Male</td>\n",
       "      <td>0</td>\n",
       "      <td>0</td>\n",
       "      <td>13</td>\n",
       "      <td>United-States</td>\n",
       "    </tr>\n",
       "    <tr>\n",
       "      <th>2</th>\n",
       "      <td>38</td>\n",
       "      <td>Private</td>\n",
       "      <td>215646</td>\n",
       "      <td>HS-grad</td>\n",
       "      <td>9</td>\n",
       "      <td>Divorced</td>\n",
       "      <td>Handlers-cleaners</td>\n",
       "      <td>Not-in-family</td>\n",
       "      <td>White</td>\n",
       "      <td>Male</td>\n",
       "      <td>0</td>\n",
       "      <td>0</td>\n",
       "      <td>40</td>\n",
       "      <td>United-States</td>\n",
       "    </tr>\n",
       "    <tr>\n",
       "      <th>3</th>\n",
       "      <td>53</td>\n",
       "      <td>Private</td>\n",
       "      <td>234721</td>\n",
       "      <td>11th</td>\n",
       "      <td>7</td>\n",
       "      <td>Married-civ-spouse</td>\n",
       "      <td>Handlers-cleaners</td>\n",
       "      <td>Husband</td>\n",
       "      <td>Black</td>\n",
       "      <td>Male</td>\n",
       "      <td>0</td>\n",
       "      <td>0</td>\n",
       "      <td>40</td>\n",
       "      <td>United-States</td>\n",
       "    </tr>\n",
       "    <tr>\n",
       "      <th>4</th>\n",
       "      <td>28</td>\n",
       "      <td>Private</td>\n",
       "      <td>338409</td>\n",
       "      <td>Bachelors</td>\n",
       "      <td>13</td>\n",
       "      <td>Married-civ-spouse</td>\n",
       "      <td>Prof-specialty</td>\n",
       "      <td>Wife</td>\n",
       "      <td>Black</td>\n",
       "      <td>Female</td>\n",
       "      <td>0</td>\n",
       "      <td>0</td>\n",
       "      <td>40</td>\n",
       "      <td>Cuba</td>\n",
       "    </tr>\n",
       "  </tbody>\n",
       "</table>\n",
       "</div>"
      ],
      "text/plain": [
       "   age         workclass  fnlwgt  education  education-num  \\\n",
       "0   39         State-gov   77516  Bachelors             13   \n",
       "1   50  Self-emp-not-inc   83311  Bachelors             13   \n",
       "2   38           Private  215646    HS-grad              9   \n",
       "3   53           Private  234721       11th              7   \n",
       "4   28           Private  338409  Bachelors             13   \n",
       "\n",
       "       marital-status         occupation   relationship   race     sex  \\\n",
       "0       Never-married       Adm-clerical  Not-in-family  White    Male   \n",
       "1  Married-civ-spouse    Exec-managerial        Husband  White    Male   \n",
       "2            Divorced  Handlers-cleaners  Not-in-family  White    Male   \n",
       "3  Married-civ-spouse  Handlers-cleaners        Husband  Black    Male   \n",
       "4  Married-civ-spouse     Prof-specialty           Wife  Black  Female   \n",
       "\n",
       "   capital-gain  capital-loss  hours-per-week native-country  \n",
       "0          2174             0              40  United-States  \n",
       "1             0             0              13  United-States  \n",
       "2             0             0              40  United-States  \n",
       "3             0             0              40  United-States  \n",
       "4             0             0              40           Cuba  "
      ]
     },
     "execution_count": 103,
     "metadata": {},
     "output_type": "execute_result"
    }
   ],
   "source": [
    "X.head()"
   ]
  },
  {
   "cell_type": "code",
   "execution_count": 109,
   "id": "d98a61ff",
   "metadata": {},
   "outputs": [
    {
     "name": "stderr",
     "output_type": "stream",
     "text": [
      "C:\\Users\\user\\AppData\\Local\\Temp\\ipykernel_9376\\1821361645.py:1: SettingWithCopyWarning: \n",
      "A value is trying to be set on a copy of a slice from a DataFrame.\n",
      "Try using .loc[row_indexer,col_indexer] = value instead\n",
      "\n",
      "See the caveats in the documentation: https://pandas.pydata.org/pandas-docs/stable/user_guide/indexing.html#returning-a-view-versus-a-copy\n",
      "  y['income'] = y['income'].apply(lambda x: '<=50' if '=' in x else '>50')\n"
     ]
    }
   ],
   "source": [
    "y['income'] = y['income'].apply(lambda x: '<=50' if '=' in x else '>50')"
   ]
  },
  {
   "cell_type": "code",
   "execution_count": 118,
   "id": "3a3cb740",
   "metadata": {},
   "outputs": [
    {
     "data": {
      "text/plain": [
       "array([0, 1], dtype=int64)"
      ]
     },
     "execution_count": 118,
     "metadata": {},
     "output_type": "execute_result"
    }
   ],
   "source": [
    "y.income.unique()"
   ]
  },
  {
   "cell_type": "code",
   "execution_count": 115,
   "id": "29ed4227",
   "metadata": {},
   "outputs": [
    {
     "name": "stderr",
     "output_type": "stream",
     "text": [
      "C:\\Users\\user\\AppData\\Local\\Temp\\ipykernel_9376\\2903698306.py:1: SettingWithCopyWarning: \n",
      "A value is trying to be set on a copy of a slice from a DataFrame.\n",
      "Try using .loc[row_indexer,col_indexer] = value instead\n",
      "\n",
      "See the caveats in the documentation: https://pandas.pydata.org/pandas-docs/stable/user_guide/indexing.html#returning-a-view-versus-a-copy\n",
      "  y['income'] = y['income'].map({'<=50': 0, '>50': 1})\n"
     ]
    }
   ],
   "source": [
    "y['income'] = y['income'].map({'<=50': 0, '>50': 1}) "
   ]
  },
  {
   "cell_type": "markdown",
   "id": "e3a96071",
   "metadata": {},
   "source": [
    "Проверим пропущенные значения"
   ]
  },
  {
   "cell_type": "code",
   "execution_count": 119,
   "id": "f61265b2",
   "metadata": {},
   "outputs": [
    {
     "name": "stdout",
     "output_type": "stream",
     "text": [
      "Кол-во записей в датасете 48842 \n",
      "\n",
      "Кол-во nan в данных\n",
      "age 0\n",
      "workclass 963\n",
      "fnlwgt 0\n",
      "education 0\n",
      "education-num 0\n",
      "marital-status 0\n",
      "occupation 966\n",
      "relationship 0\n",
      "race 0\n",
      "sex 0\n",
      "capital-gain 0\n",
      "capital-loss 0\n",
      "hours-per-week 0\n",
      "native-country 274\n",
      "target 0\n"
     ]
    }
   ],
   "source": [
    "print(\"Кол-во записей в датасете\", X.shape[0],'\\n')\n",
    "\n",
    "print('Кол-во nan в данных')\n",
    "for col in X.columns:\n",
    "    print(f'{col}', X[col].isna().sum())\n",
    "print('target', y.income.isna().sum())"
   ]
  },
  {
   "cell_type": "markdown",
   "id": "96d51968",
   "metadata": {},
   "source": [
    "\n",
    "Выделим колонки с пропущенными значениями"
   ]
  },
  {
   "cell_type": "code",
   "execution_count": 120,
   "id": "884eb227",
   "metadata": {},
   "outputs": [],
   "source": [
    "col_with_na = [col for col in X.columns if X[col].hasnans]"
   ]
  },
  {
   "cell_type": "code",
   "execution_count": 121,
   "id": "461c393b",
   "metadata": {},
   "outputs": [
    {
     "data": {
      "text/plain": [
       "['workclass', 'occupation', 'native-country']"
      ]
     },
     "execution_count": 121,
     "metadata": {},
     "output_type": "execute_result"
    }
   ],
   "source": [
    "col_with_na"
   ]
  },
  {
   "cell_type": "markdown",
   "id": "f3e37417",
   "metadata": {},
   "source": [
    "Проверим баланс tergeta и выясним его природу"
   ]
  },
  {
   "cell_type": "code",
   "execution_count": 122,
   "id": "82fe218f",
   "metadata": {},
   "outputs": [
    {
     "data": {
      "text/plain": [
       "<AxesSubplot:xlabel='income', ylabel='count'>"
      ]
     },
     "execution_count": 122,
     "metadata": {},
     "output_type": "execute_result"
    },
    {
     "data": {
      "image/png": "[encoded data removed]",
      "text/plain": [
       "<Figure size 640x480 with 1 Axes>"
      ]
     },
     "metadata": {},
     "output_type": "display_data"
    }
   ],
   "source": [
    "sns.countplot(data=y, x='income')"
   ]
  },
  {
   "cell_type": "markdown",
   "id": "2d419b51",
   "metadata": {},
   "source": [
    "Можно скоратить мажорный до 20000 и синтезировать минорный класс до 20000"
   ]
  },
  {
   "cell_type": "markdown",
   "id": "60f1d5db",
   "metadata": {},
   "source": [
    "Построим baseline as is и проверим качество"
   ]
  },
  {
   "cell_type": "code",
   "execution_count": 145,
   "id": "e804c1d2",
   "metadata": {},
   "outputs": [],
   "source": [
    "from catboost import CatBoostClassifier\n",
    "from catboost import Pool\n",
    "from sklearn.model_selection import train_test_split\n",
    "from sklearn.metrics import roc_auc_score"
   ]
  },
  {
   "cell_type": "code",
   "execution_count": 124,
   "id": "b6daac80",
   "metadata": {},
   "outputs": [
    {
     "data": {
      "text/plain": [
       "age                int64\n",
       "workclass         object\n",
       "fnlwgt             int64\n",
       "education         object\n",
       "education-num      int64\n",
       "marital-status    object\n",
       "occupation        object\n",
       "relationship      object\n",
       "race              object\n",
       "sex               object\n",
       "capital-gain       int64\n",
       "capital-loss       int64\n",
       "hours-per-week     int64\n",
       "native-country    object\n",
       "dtype: object"
      ]
     },
     "execution_count": 124,
     "metadata": {},
     "output_type": "execute_result"
    }
   ],
   "source": [
    "X.dtypes"
   ]
  },
  {
   "cell_type": "code",
   "execution_count": 125,
   "id": "9f7de644",
   "metadata": {},
   "outputs": [],
   "source": [
    "categorical = [col for col in X.columns if X[col].dtype=='object']\n",
    "num = [col for col in X.columns if X[col].dtype=='float64' or X[col].dtype=='int64']\n"
   ]
  },
  {
   "cell_type": "code",
   "execution_count": null,
   "id": "42e395bd",
   "metadata": {},
   "outputs": [],
   "source": []
  },
  {
   "cell_type": "code",
   "execution_count": 134,
   "id": "a2db8377",
   "metadata": {},
   "outputs": [],
   "source": [
    "def feature_preporation(df):\n",
    "    \n",
    "    preporated = df.copy()\n",
    "    for col in categorical:\n",
    "        preporated[col] = preporated[col].astype(str)\n",
    "    for col in num:\n",
    "        preporated[col] = preporated[col].astype('float64')\n",
    "    return preporated"
   ]
  },
  {
   "cell_type": "code",
   "execution_count": 135,
   "id": "2aee6ed2",
   "metadata": {},
   "outputs": [
    {
     "name": "stderr",
     "output_type": "stream",
     "text": [
      "C:\\Users\\user\\AppData\\Local\\Temp\\ipykernel_9376\\3877028834.py:2: SettingWithCopyWarning: \n",
      "A value is trying to be set on a copy of a slice from a DataFrame.\n",
      "Try using .loc[row_indexer,col_indexer] = value instead\n",
      "\n",
      "See the caveats in the documentation: https://pandas.pydata.org/pandas-docs/stable/user_guide/indexing.html#returning-a-view-versus-a-copy\n",
      "  y['income'] = y['income'].astype('int8')\n"
     ]
    }
   ],
   "source": [
    "prepared_data = feature_preporation(X)\n",
    "y['income'] = y['income'].astype('int8') "
   ]
  },
  {
   "cell_type": "code",
   "execution_count": 136,
   "id": "7361a3ec",
   "metadata": {},
   "outputs": [
    {
     "data": {
      "text/plain": [
       "age               float64\n",
       "workclass          object\n",
       "fnlwgt            float64\n",
       "education          object\n",
       "education-num     float64\n",
       "marital-status     object\n",
       "occupation         object\n",
       "relationship       object\n",
       "race               object\n",
       "sex                object\n",
       "capital-gain      float64\n",
       "capital-loss      float64\n",
       "hours-per-week    float64\n",
       "native-country     object\n",
       "dtype: object"
      ]
     },
     "execution_count": 136,
     "metadata": {},
     "output_type": "execute_result"
    }
   ],
   "source": [
    "prepared_data.dtypes"
   ]
  },
  {
   "cell_type": "code",
   "execution_count": 137,
   "id": "c0c304ed",
   "metadata": {},
   "outputs": [],
   "source": [
    "X_train_val, X_test, y_train_val, y_test = train_test_split(prepared_data, y, test_size=0.12, random_state=17) "
   ]
  },
  {
   "cell_type": "code",
   "execution_count": 138,
   "id": "8295483d",
   "metadata": {},
   "outputs": [],
   "source": [
    "X_train, X_val, y_train, y_val = train_test_split(X_train_val, y_train_val, test_size=0.12, random_state=17) "
   ]
  },
  {
   "cell_type": "code",
   "execution_count": 139,
   "id": "011f7425",
   "metadata": {},
   "outputs": [
    {
     "name": "stdout",
     "output_type": "stream",
     "text": [
      "shape train 37822\n",
      "shape val 5158\n",
      "shape test 5862\n"
     ]
    }
   ],
   "source": [
    "print('shape train', X_train.shape[0])\n",
    "print('shape val', X_val.shape[0])\n",
    "print('shape test', X_test.shape[0])"
   ]
  },
  {
   "cell_type": "code",
   "execution_count": 140,
   "id": "825fac7f",
   "metadata": {},
   "outputs": [],
   "source": [
    "train_pool = Pool(data=X_train,\n",
    "                  label=y_train,\n",
    "                  cat_features=categorical)\n",
    "\n",
    "val_pool = Pool(data=X_val,\n",
    "                  label=y_val,\n",
    "                  cat_features=categorical)\n"
   ]
  },
  {
   "cell_type": "code",
   "execution_count": null,
   "id": "b83eb5d1",
   "metadata": {},
   "outputs": [],
   "source": [
    "cat_clf = CatBoostClassifier()"
   ]
  },
  {
   "cell_type": "code",
   "execution_count": 177,
   "id": "63e3945b",
   "metadata": {},
   "outputs": [
    {
     "data": {
      "application/vnd.jupyter.widget-view+json": {
       "model_id": "96d60f81ce3c42f9a3619b6b27bf3fc3",
       "version_major": 2,
       "version_minor": 0
      },
      "text/plain": [
       "MetricVisualizer(layout=Layout(align_self='stretch', height='500px'))"
      ]
     },
     "metadata": {},
     "output_type": "display_data"
    },
    {
     "name": "stdout",
     "output_type": "stream",
     "text": [
      "Learning rate set to 0.077734\n",
      "0:\tlearn: 0.6187506\ttest: 0.6196856\tbest: 0.6196856 (0)\ttotal: 28.4ms\tremaining: 28.4s\n",
      "100:\tlearn: 0.2847529\ttest: 0.2906275\tbest: 0.2906275 (100)\ttotal: 3.56s\tremaining: 31.7s\n",
      "200:\tlearn: 0.2720650\ttest: 0.2809772\tbest: 0.2808746 (196)\ttotal: 6.99s\tremaining: 27.8s\n",
      "300:\tlearn: 0.2666183\ttest: 0.2784371\tbest: 0.2784131 (288)\ttotal: 10.4s\tremaining: 24.3s\n",
      "400:\tlearn: 0.2628187\ttest: 0.2770271\tbest: 0.2770271 (400)\ttotal: 14s\tremaining: 20.9s\n",
      "500:\tlearn: 0.2596105\ttest: 0.2765336\tbest: 0.2764394 (487)\ttotal: 17.5s\tremaining: 17.5s\n",
      "600:\tlearn: 0.2560139\ttest: 0.2757208\tbest: 0.2756976 (596)\ttotal: 21.1s\tremaining: 14s\n",
      "700:\tlearn: 0.2531116\ttest: 0.2750167\tbest: 0.2749715 (678)\ttotal: 24.8s\tremaining: 10.6s\n",
      "800:\tlearn: 0.2500836\ttest: 0.2741422\tbest: 0.2740624 (793)\ttotal: 28.4s\tremaining: 7.05s\n",
      "900:\tlearn: 0.2474694\ttest: 0.2738959\tbest: 0.2738723 (892)\ttotal: 32s\tremaining: 3.52s\n",
      "999:\tlearn: 0.2450725\ttest: 0.2737869\tbest: 0.2737724 (997)\ttotal: 35.6s\tremaining: 0us\n",
      "\n",
      "bestTest = 0.2737723573\n",
      "bestIteration = 997\n",
      "\n",
      "Shrink model to first 998 iterations.\n"
     ]
    },
    {
     "data": {
      "text/plain": [
       "<catboost.core.CatBoostClassifier at 0x23931b696d0>"
      ]
     },
     "execution_count": 177,
     "metadata": {},
     "output_type": "execute_result"
    }
   ],
   "source": [
    "params = {\n",
    "    'iterations': 1000,\n",
    "    'depth': 5,\n",
    "    'loss_function': 'Logloss',\n",
    "    'task_type': 'CPU',\n",
    "    'verbose': 100\n",
    "    \n",
    "    \n",
    "}\n",
    "\n",
    "model_cat = CatBoostClassifier(**params)\n",
    "model_cat.fit(X_train, y_train, eval_set=(X_val, y_val), cat_features=categorical, plot=True)"
   ]
  },
  {
   "cell_type": "code",
   "execution_count": 169,
   "id": "69f4b679",
   "metadata": {},
   "outputs": [
    {
     "data": {
      "text/plain": [
       "0.9323136209563405"
      ]
     },
     "execution_count": 169,
     "metadata": {},
     "output_type": "execute_result"
    }
   ],
   "source": [
    "# Получили неплохой baseline постараемся его побить\n",
    "roc_auc_score(y_test, model_cat.predict_proba(X_test)[:, 1])"
   ]
  },
  {
   "cell_type": "code",
   "execution_count": 163,
   "id": "a6b1d089",
   "metadata": {},
   "outputs": [],
   "source": [
    "predict_true = pd.DataFrame(data=np.c_[y_test, model_cat.predict_proba(X_test)[:, 1]],\n",
    "                            columns=['label', 'proba'])\\\n",
    "                 .sort_values(by=['proba'], ascending=False)"
   ]
  },
  {
   "cell_type": "code",
   "execution_count": null,
   "id": "25028f76",
   "metadata": {},
   "outputs": [],
   "source": []
  },
  {
   "cell_type": "markdown",
   "id": "390c280e",
   "metadata": {},
   "source": [
    "Сначала разберемся с пропущенными значениями"
   ]
  },
  {
   "cell_type": "code",
   "execution_count": 178,
   "id": "af18ad53",
   "metadata": {},
   "outputs": [
    {
     "data": {
      "text/plain": [
       "['workclass', 'occupation', 'native-country']"
      ]
     },
     "execution_count": 178,
     "metadata": {},
     "output_type": "execute_result"
    }
   ],
   "source": [
    "col_with_na"
   ]
  },
  {
   "cell_type": "code",
   "execution_count": 181,
   "id": "f6c8b5d0",
   "metadata": {},
   "outputs": [],
   "source": [
    "from imblearn.over_sampling import SMOTE\n",
    "from imblearn.under_sampling import CondensedNearestNeighbour\n",
    "\n",
    "import category_encoders as ce"
   ]
  },
  {
   "cell_type": "code",
   "execution_count": 182,
   "id": "51549647",
   "metadata": {},
   "outputs": [],
   "source": [
    "# еще раз проверим nan\n",
    "\n",
    "def check_missing(data,output_path=None):    \n",
    "    result = pd.concat([data.isnull().sum(),data.isnull().mean()],axis=1)\n",
    "    result = result.rename(index=str,columns={0:'total missing',1:'proportion'})\n",
    "    if output_path is not None:\n",
    "        result.to_csv('missing.csv')\n",
    "        print(output_path, 'missing.csv')\n",
    "    return result"
   ]
  },
  {
   "cell_type": "code",
   "execution_count": 183,
   "id": "dfed0995",
   "metadata": {},
   "outputs": [
    {
     "data": {
      "text/html": [
       "<div>\n",
       "<style scoped>\n",
       "    .dataframe tbody tr th:only-of-type {\n",
       "        vertical-align: middle;\n",
       "    }\n",
       "\n",
       "    .dataframe tbody tr th {\n",
       "        vertical-align: top;\n",
       "    }\n",
       "\n",
       "    .dataframe thead th {\n",
       "        text-align: right;\n",
       "    }\n",
       "</style>\n",
       "<table border=\"1\" class=\"dataframe\">\n",
       "  <thead>\n",
       "    <tr style=\"text-align: right;\">\n",
       "      <th></th>\n",
       "      <th>total missing</th>\n",
       "      <th>proportion</th>\n",
       "    </tr>\n",
       "  </thead>\n",
       "  <tbody>\n",
       "    <tr>\n",
       "      <th>age</th>\n",
       "      <td>0</td>\n",
       "      <td>0.000000</td>\n",
       "    </tr>\n",
       "    <tr>\n",
       "      <th>workclass</th>\n",
       "      <td>963</td>\n",
       "      <td>0.019717</td>\n",
       "    </tr>\n",
       "    <tr>\n",
       "      <th>fnlwgt</th>\n",
       "      <td>0</td>\n",
       "      <td>0.000000</td>\n",
       "    </tr>\n",
       "    <tr>\n",
       "      <th>education</th>\n",
       "      <td>0</td>\n",
       "      <td>0.000000</td>\n",
       "    </tr>\n",
       "    <tr>\n",
       "      <th>education-num</th>\n",
       "      <td>0</td>\n",
       "      <td>0.000000</td>\n",
       "    </tr>\n",
       "    <tr>\n",
       "      <th>marital-status</th>\n",
       "      <td>0</td>\n",
       "      <td>0.000000</td>\n",
       "    </tr>\n",
       "    <tr>\n",
       "      <th>occupation</th>\n",
       "      <td>966</td>\n",
       "      <td>0.019778</td>\n",
       "    </tr>\n",
       "    <tr>\n",
       "      <th>relationship</th>\n",
       "      <td>0</td>\n",
       "      <td>0.000000</td>\n",
       "    </tr>\n",
       "    <tr>\n",
       "      <th>race</th>\n",
       "      <td>0</td>\n",
       "      <td>0.000000</td>\n",
       "    </tr>\n",
       "    <tr>\n",
       "      <th>sex</th>\n",
       "      <td>0</td>\n",
       "      <td>0.000000</td>\n",
       "    </tr>\n",
       "    <tr>\n",
       "      <th>capital-gain</th>\n",
       "      <td>0</td>\n",
       "      <td>0.000000</td>\n",
       "    </tr>\n",
       "    <tr>\n",
       "      <th>capital-loss</th>\n",
       "      <td>0</td>\n",
       "      <td>0.000000</td>\n",
       "    </tr>\n",
       "    <tr>\n",
       "      <th>hours-per-week</th>\n",
       "      <td>0</td>\n",
       "      <td>0.000000</td>\n",
       "    </tr>\n",
       "    <tr>\n",
       "      <th>native-country</th>\n",
       "      <td>274</td>\n",
       "      <td>0.005610</td>\n",
       "    </tr>\n",
       "  </tbody>\n",
       "</table>\n",
       "</div>"
      ],
      "text/plain": [
       "                total missing  proportion\n",
       "age                         0    0.000000\n",
       "workclass                 963    0.019717\n",
       "fnlwgt                      0    0.000000\n",
       "education                   0    0.000000\n",
       "education-num               0    0.000000\n",
       "marital-status              0    0.000000\n",
       "occupation                966    0.019778\n",
       "relationship                0    0.000000\n",
       "race                        0    0.000000\n",
       "sex                         0    0.000000\n",
       "capital-gain                0    0.000000\n",
       "capital-loss                0    0.000000\n",
       "hours-per-week              0    0.000000\n",
       "native-country            274    0.005610"
      ]
     },
     "execution_count": 183,
     "metadata": {},
     "output_type": "execute_result"
    }
   ],
   "source": [
    "check_missing(X)"
   ]
  }
 ],
 "metadata": {
  "kernelspec": {
   "display_name": "Python 3 (ipykernel)",
   "language": "python",
   "name": "python3"
  },
  "language_info": {
   "codemirror_mode": {
    "name": "ipython",
    "version": 3
   },
   "file_extension": ".py",
   "mimetype": "text/x-python",
   "name": "python",
   "nbconvert_exporter": "python",
   "pygments_lexer": "ipython3",
   "version": "3.9.13"
  }
 },
 "nbformat": 4,
 "nbformat_minor": 5
}
